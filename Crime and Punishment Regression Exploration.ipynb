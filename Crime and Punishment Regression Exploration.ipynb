{
 "cells": [
  {
   "cell_type": "markdown",
   "metadata": {},
   "source": [
    "## Exploring the relationship between crime and punishment using Linear Regression \n",
    "\\- Writtn by Leonard Phillips."
   ]
  },
  {
   "cell_type": "markdown",
   "metadata": {},
   "source": [
    "This report investigates whether there is a relationship between the crime rate of society and the probability of imprisonment. The dependent variable 'Crime' represents the number of offenses per 1,000,000 population while the independent variable 'ProbPrison' represents the ratio of the number of people committed to prison to the number of offenses.\n",
    "\n",
    "The dataset I will be using in this report has data collected during the year 1960."
   ]
  },
  {
   "cell_type": "code",
   "execution_count": null,
   "metadata": {},
   "outputs": [],
   "source": []
  }
 ],
 "metadata": {
  "kernelspec": {
   "display_name": "Python 3",
   "language": "python",
   "name": "python3"
  },
  "language_info": {
   "codemirror_mode": {
    "name": "ipython",
    "version": 3
   },
   "file_extension": ".py",
   "mimetype": "text/x-python",
   "name": "python",
   "nbconvert_exporter": "python",
   "pygments_lexer": "ipython3",
   "version": "3.7.3"
  }
 },
 "nbformat": 4,
 "nbformat_minor": 2
}
